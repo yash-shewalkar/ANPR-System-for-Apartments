{
 "cells": [
  {
   "cell_type": "markdown",
   "id": "c8398eec-2c87-40bb-8e22-84a069f0c14a",
   "metadata": {},
   "source": [
    "# Getting the last saved /  recognised number plate"
   ]
  },
  {
   "cell_type": "code",
   "execution_count": 1,
   "id": "7b09fe95-82e9-44ee-a957-4cd24cdca043",
   "metadata": {},
   "outputs": [],
   "source": [
    "def read_last_saved_text(filename):\n",
    "    try:\n",
    "        with open(filename, 'r') as f:\n",
    "            lines = f.readlines()\n",
    "            if lines:\n",
    "                last_line = lines[-1].strip()  # Get the last line and remove whitespace\n",
    "                return last_line\n",
    "            else:\n",
    "                return \"File is empty\"\n",
    "    except FileNotFoundError:\n",
    "        return \"File not found\"\n"
   ]
  },
  {
   "cell_type": "code",
   "execution_count": 2,
   "id": "f46914c7-6412-4627-8055-4ab3637a7cfb",
   "metadata": {},
   "outputs": [
    {
     "name": "stdout",
     "output_type": "stream",
     "text": [
      "Last saved text: Mhzodv2366\n"
     ]
    }
   ],
   "source": [
    "last_saved_text = read_last_saved_text(\"recognized_number.txt\")\n",
    "print(\"Last saved text:\", last_saved_text)"
   ]
  },
  {
   "cell_type": "code",
   "execution_count": 3,
   "id": "dff6daeb-5212-459b-97be-fa77e833b22b",
   "metadata": {},
   "outputs": [],
   "source": [
    "import pandas as pd\n",
    "import re\n",
    "\n",
    "def preprocess_text(text):\n",
    "    # Remove non-alphanumeric characters, convert to uppercase, and remove white spaces\n",
    "    return re.sub(r'\\W+', '', text).upper().replace(\" \", \"\")\n",
    "\n",
    "def check_number_plate_in_csv(number_plate_text, csv_file):\n",
    "    try:\n",
    "        # Read the CSV file into a DataFrame\n",
    "        df = pd.read_csv(csv_file)\n",
    "\n",
    "        # Preprocess the recognized number plate text\n",
    "        number_plate_text_processed = preprocess_text(number_plate_text)\n",
    "\n",
    "        # Preprocess the number plate entries in the CSV file\n",
    "        df['number plate'] = df['number plate'].apply(preprocess_text)\n",
    "\n",
    "        # Check if the processed number plate text is present in the processed \"number plate\" column\n",
    "        if number_plate_text_processed in df['number plate'].values:\n",
    "            return True\n",
    "        else:\n",
    "            return False\n",
    "    except FileNotFoundError:\n",
    "        print(\"CSV file not found\")\n",
    "        return False\n",
    "\n"
   ]
  },
  {
   "cell_type": "code",
   "execution_count": 4,
   "id": "e226055c-8c05-4dec-b6ad-8c736b91cd5a",
   "metadata": {},
   "outputs": [
    {
     "name": "stdout",
     "output_type": "stream",
     "text": [
      "The number plate 'Mhzodv2366' is not present in the CSV file.\n"
     ]
    }
   ],
   "source": [
    "# Example usage:\n",
    "number_plate_text = last_saved_text  # Replace this with the recognized number plate text\n",
    "csv_file = \"owners.csv\"  # Replace this with the path to your CSV file\n",
    "is_present = check_number_plate_in_csv(number_plate_text, csv_file)\n",
    "if is_present:\n",
    "    print(f\"The number plate '{number_plate_text}' is present in the CSV file.\")\n",
    "else:\n",
    "    print(f\"The number plate '{number_plate_text}' is not present in the CSV file.\")\n"
   ]
  },
  {
   "cell_type": "code",
   "execution_count": null,
   "id": "04479baa-667f-43eb-a648-1f86fb832400",
   "metadata": {},
   "outputs": [],
   "source": [
    "!streamlit run app.py"
   ]
  },
  {
   "cell_type": "code",
   "execution_count": 2,
   "id": "d85bea3d-d133-497b-aa36-bae729cd60c6",
   "metadata": {},
   "outputs": [
    {
     "name": "stdout",
     "output_type": "stream",
     "text": [
      "^C\n"
     ]
    }
   ],
   "source": [
    "!streamlit run Dashboard.py"
   ]
  },
  {
   "cell_type": "code",
   "execution_count": 1,
   "id": "f328e956-57a0-47fe-954a-0a8a54bf51f2",
   "metadata": {},
   "outputs": [
    {
     "name": "stdout",
     "output_type": "stream",
     "text": [
      "^C\n"
     ]
    }
   ],
   "source": [
    "!streamlit run detection_page.py"
   ]
  },
  {
   "cell_type": "code",
   "execution_count": null,
   "id": "4d850c98-bb57-4f80-83cb-12e169427db5",
   "metadata": {},
   "outputs": [],
   "source": []
  }
 ],
 "metadata": {
  "kernelspec": {
   "display_name": "Python 3 (ipykernel)",
   "language": "python",
   "name": "python3"
  },
  "language_info": {
   "codemirror_mode": {
    "name": "ipython",
    "version": 3
   },
   "file_extension": ".py",
   "mimetype": "text/x-python",
   "name": "python",
   "nbconvert_exporter": "python",
   "pygments_lexer": "ipython3",
   "version": "3.11.5"
  }
 },
 "nbformat": 4,
 "nbformat_minor": 5
}
