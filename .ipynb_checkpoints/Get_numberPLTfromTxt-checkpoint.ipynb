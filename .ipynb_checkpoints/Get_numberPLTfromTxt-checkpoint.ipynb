{
 "cells": [
  {
   "cell_type": "markdown",
   "id": "c8398eec-2c87-40bb-8e22-84a069f0c14a",
   "metadata": {},
   "source": [
    "# Getting the last saved /  recognised number plate"
   ]
  },
  {
   "cell_type": "code",
   "execution_count": 6,
   "id": "7b09fe95-82e9-44ee-a957-4cd24cdca043",
   "metadata": {},
   "outputs": [],
   "source": [
    "def read_last_saved_text(filename):\n",
    "    try:\n",
    "        with open(filename, 'r') as f:\n",
    "            lines = f.readlines()\n",
    "            if lines:\n",
    "                last_line = lines[-1].strip()  # Get the last line and remove whitespace\n",
    "                return last_line\n",
    "            else:\n",
    "                return \"File is empty\"\n",
    "    except FileNotFoundError:\n",
    "        return \"File not found\"\n"
   ]
  },
  {
   "cell_type": "code",
   "execution_count": 7,
   "id": "f46914c7-6412-4627-8055-4ab3637a7cfb",
   "metadata": {},
   "outputs": [
    {
     "name": "stdout",
     "output_type": "stream",
     "text": [
      "Last saved text: DL 10CS0275\n"
     ]
    }
   ],
   "source": [
    "last_saved_text = read_last_saved_text(\"recognized_number.txt\")\n",
    "print(\"Last saved text:\", last_saved_text)"
   ]
  },
  {
   "cell_type": "code",
   "execution_count": 8,
   "id": "dff6daeb-5212-459b-97be-fa77e833b22b",
   "metadata": {},
   "outputs": [],
   "source": [
    "import pandas as pd\n",
    "import re\n",
    "\n",
    "def preprocess_text(text):\n",
    "    # Remove non-alphanumeric characters, convert to uppercase, and remove white spaces\n",
    "    return re.sub(r'\\W+', '', text).upper().replace(\" \", \"\")\n",
    "\n",
    "def check_number_plate_in_csv(number_plate_text, csv_file):\n",
    "    try:\n",
    "        # Read the CSV file into a DataFrame\n",
    "        df = pd.read_csv(csv_file)\n",
    "\n",
    "        # Preprocess the recognized number plate text\n",
    "        number_plate_text_processed = preprocess_text(number_plate_text)\n",
    "\n",
    "        # Preprocess the number plate entries in the CSV file\n",
    "        df['number plate'] = df['number plate'].apply(preprocess_text)\n",
    "\n",
    "        # Check if the processed number plate text is present in the processed \"number plate\" column\n",
    "        if number_plate_text_processed in df['number plate'].values:\n",
    "            return True\n",
    "        else:\n",
    "            return False\n",
    "    except FileNotFoundError:\n",
    "        print(\"CSV file not found\")\n",
    "        return False\n",
    "\n"
   ]
  },
  {
   "cell_type": "code",
   "execution_count": 10,
   "id": "e226055c-8c05-4dec-b6ad-8c736b91cd5a",
   "metadata": {},
   "outputs": [
    {
     "name": "stdout",
     "output_type": "stream",
     "text": [
      "The number plate 'DL 10CS0275' is not present in the CSV file.\n"
     ]
    }
   ],
   "source": [
    "# Example usage:\n",
    "number_plate_text = last_saved_text  # Replace this with the recognized number plate text\n",
    "csv_file = \"owners.csv\"  # Replace this with the path to your CSV file\n",
    "is_present = check_number_plate_in_csv(number_plate_text, csv_file)\n",
    "if is_present:\n",
    "    print(f\"The number plate '{number_plate_text}' is present in the CSV file.\")\n",
    "else:\n",
    "    print(f\"The number plate '{number_plate_text}' is not present in the CSV file.\")\n"
   ]
  },
  {
   "cell_type": "code",
   "execution_count": 5,
   "id": "04479baa-667f-43eb-a648-1f86fb832400",
   "metadata": {},
   "outputs": [
    {
     "name": "stdout",
     "output_type": "stream",
     "text": [
      "^C\n"
     ]
    }
   ],
   "source": [
    "!streamlit run app.py"
   ]
  },
  {
   "cell_type": "code",
   "execution_count": 2,
   "id": "d85bea3d-d133-497b-aa36-bae729cd60c6",
   "metadata": {},
   "outputs": [
    {
     "name": "stdout",
     "output_type": "stream",
     "text": [
      "^C\n"
     ]
    }
   ],
   "source": [
    "# !streamlit run Dashboard.py"
   ]
  },
  {
   "cell_type": "code",
   "execution_count": 1,
   "id": "f328e956-57a0-47fe-954a-0a8a54bf51f2",
   "metadata": {},
   "outputs": [
    {
     "name": "stdout",
     "output_type": "stream",
     "text": [
      "^C\n"
     ]
    }
   ],
   "source": [
    "# !streamlit run detection_page.py"
   ]
  },
  {
   "cell_type": "code",
   "execution_count": 11,
   "id": "4d850c98-bb57-4f80-83cb-12e169427db5",
   "metadata": {},
   "outputs": [
    {
     "name": "stdout",
     "output_type": "stream",
     "text": [
      "^C\n"
     ]
    }
   ],
   "source": [
    "!streamlit run crossverifyNP.py"
   ]
  },
  {
   "cell_type": "code",
   "execution_count": 12,
   "id": "27b862e8-f3e2-4a2a-bf1a-ea6f63608bfe",
   "metadata": {},
   "outputs": [
    {
     "name": "stdout",
     "output_type": "stream",
     "text": [
      "^C\n"
     ]
    }
   ],
   "source": []
  },
  {
   "cell_type": "code",
   "execution_count": 13,
   "id": "1246bac1-e484-4f6c-99c7-5430ab9109a4",
   "metadata": {},
   "outputs": [
    {
     "name": "stdout",
     "output_type": "stream",
     "text": [
      "Collecting firebase\n",
      "  Downloading firebase-4.0.1-py3-none-any.whl.metadata (6.5 kB)\n",
      "Requirement already satisfied: requests in c:\\users\\asus\\appdata\\local\\programs\\python\\python311\\lib\\site-packages (from firebase) (2.31.0)\n",
      "Requirement already satisfied: charset-normalizer<4,>=2 in c:\\users\\asus\\appdata\\local\\programs\\python\\python311\\lib\\site-packages (from requests->firebase) (3.2.0)\n",
      "Requirement already satisfied: idna<4,>=2.5 in c:\\users\\asus\\appdata\\local\\programs\\python\\python311\\lib\\site-packages (from requests->firebase) (3.4)\n",
      "Requirement already satisfied: urllib3<3,>=1.21.1 in c:\\users\\asus\\appdata\\local\\programs\\python\\python311\\lib\\site-packages (from requests->firebase) (2.0.4)\n",
      "Requirement already satisfied: certifi>=2017.4.17 in c:\\users\\asus\\appdata\\local\\programs\\python\\python311\\lib\\site-packages (from requests->firebase) (2023.7.22)\n",
      "Downloading firebase-4.0.1-py3-none-any.whl (12 kB)\n",
      "Installing collected packages: firebase\n",
      "Successfully installed firebase-4.0.1\n"
     ]
    }
   ],
   "source": [
    "!pip install firebase"
   ]
  },
  {
   "cell_type": "code",
   "execution_count": 15,
   "id": "6a020cdd-9da9-4535-9f2b-f7eb1c89816b",
   "metadata": {},
   "outputs": [
    {
     "name": "stdout",
     "output_type": "stream",
     "text": [
      "Collecting uuid\n",
      "  Downloading uuid-1.30.tar.gz (5.8 kB)\n",
      "  Preparing metadata (setup.py): started\n",
      "  Preparing metadata (setup.py): finished with status 'done'\n",
      "Building wheels for collected packages: uuid\n",
      "  Building wheel for uuid (setup.py): started\n",
      "  Building wheel for uuid (setup.py): finished with status 'done'\n",
      "  Created wheel for uuid: filename=uuid-1.30-py3-none-any.whl size=6486 sha256=b99816d52d0bd4b72719edc14300c137a071eae005a46eeede92ba745560442d\n",
      "  Stored in directory: c:\\users\\asus\\appdata\\local\\pip\\cache\\wheels\\e0\\01\\df\\bd20df409bd81f8b99e6cd343c5f49731dc0a20eefefdafae0\n",
      "Successfully built uuid\n",
      "Installing collected packages: uuid\n",
      "Successfully installed uuid-1.30\n"
     ]
    }
   ],
   "source": [
    "!pip install uuid"
   ]
  },
  {
   "cell_type": "code",
   "execution_count": 3,
   "id": "04f7511c-573f-4361-8949-5b50c8be69f0",
   "metadata": {},
   "outputs": [
    {
     "name": "stdout",
     "output_type": "stream",
     "text": [
      "^C\n"
     ]
    }
   ],
   "source": [
    "!streamlit run CrossVarXregister-Copy2.py , retriveUsers.py "
   ]
  },
  {
   "cell_type": "code",
   "execution_count": null,
   "id": "9dc0ec7e-4a39-4764-b942-c4ff74280bad",
   "metadata": {},
   "outputs": [],
   "source": [
    "!streamlit run retriveUsers.py "
   ]
  },
  {
   "cell_type": "code",
   "execution_count": null,
   "id": "c1deaee7-da07-4b67-b59e-e54683c7954c",
   "metadata": {},
   "outputs": [],
   "source": []
  },
  {
   "cell_type": "code",
   "execution_count": null,
   "id": "7f9411b8-9bfe-4a90-aa77-644be3785a03",
   "metadata": {},
   "outputs": [],
   "source": [
    "qq"
   ]
  }
 ],
 "metadata": {
  "kernelspec": {
   "display_name": "Python 3 (ipykernel)",
   "language": "python",
   "name": "python3"
  },
  "language_info": {
   "codemirror_mode": {
    "name": "ipython",
    "version": 3
   },
   "file_extension": ".py",
   "mimetype": "text/x-python",
   "name": "python",
   "nbconvert_exporter": "python",
   "pygments_lexer": "ipython3",
   "version": "3.11.5"
  }
 },
 "nbformat": 4,
 "nbformat_minor": 5
}
